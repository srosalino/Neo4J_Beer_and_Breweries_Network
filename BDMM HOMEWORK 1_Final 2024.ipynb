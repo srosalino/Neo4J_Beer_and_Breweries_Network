{
 "cells": [
  {
   "cell_type": "markdown",
   "metadata": {},
   "source": [
    "# Big Data Modeling and Management Assigment - Homework 1"
   ]
  },
  {
   "cell_type": "markdown",
   "metadata": {},
   "source": [
    "## 🍺 The Beer project  🍺 \n",
    "\n",
    "Graph databases are a natural way of navigating distinct types of data. For this first project we will be taking a graph database to analyse beer and breweries!   \n",
    "\n",
    "_For reference the dataset used for this project has been extracted from [kaggle](https://www.kaggle.com/ehallmar/beers-breweries-and-beer-reviews), released by Evan Hallmark. Even though the author does not present metadata on the origin of the data it is probably a collection of open data from places like [beeradvocate](https://www.beeradvocate.com/)_.\n",
    "\n",
    "### Problem description\n",
    "\n",
    "Explore the database via python neo4j connector and/or the graphical tool in the NEO4J webpage. Answer the questions with python syntax. Submit the results by following the instructions.\n",
    "\n",
    "\n",
    "### Questions\n",
    "\n",
    "1. How many distinct countries exist in the database? [Hint: mind repetitions]\n",
    "1. Most reviews:  \n",
    "    1. Which `Beer` has the most reviews?  \n",
    "    1. Which `Brewery` has the most reviews for its beers? [Hint: 3-node path]\n",
    "    1. Which `Country` has the most reviews for its beers? [Hint: 5-node path]\n",
    "1. Who is/are the user/users that have the most shared reviews (reviews of the same beers) with the user CTJman?\n",
    "1. Which Portuguese brewery has the most beers?\n",
    "1. From those beers (the ones returned from the previous question), which has the most reviews?\n",
    "1. On average how many different beer styles does each brewery produce?\n",
    "1. Which brewery produces the strongest beers according to ABV? [Hint: database has NaN values]\n",
    "1. If I typically enjoy a beer due to its aroma and appearance, which beer style should I try? (Justify your answer) [Hint: database has NaN values]\n",
    "1. Using Graph Algorithms answer **one** of the following questions: [NB: make sure to clear the graph before using it again]\n",
    "    1. Which two countries are most similiar when it comes to their **top 10** most produced Beer styles?\n",
    "    2. Which beer is the most influential when considering the number of users who reviewed it? [Please use limit of 1000 on beer-review-user path]]\n",
    "    3. Users are connected together by their reviews of beers, taking into consideration the \"overall\" score they assign as a weight, how many communities are formed from these relationships? How many users are in the largest community? [Please use limit of 1000 on beer-review-user path]]\n",
    "1. Using Graph Algorithms answer **one** of the following questions:\n",
    "    1. Which beer has the most similar reviews as the beer `Super Bock Stout`? [Hint:inspect two subsets: with and without the beer in question]\n",
    "    2. Which user is the most influential when it comes to reviews made?\n",
    "1. If you had to pick 3 beers to recommend using only this database, which would you pick and why? (Justify your answer) [Hint: database has NaN values]\n",
    "\n",
    "\n",
    "Questions 8 to 10 are somewhat open, which means we'll also be evaluating the reasoning behind your answer. So there aren't necessarily bad results there are only wrong criteria, explanations, or execution. \n",
    " \n",
    "### Groups  \n",
    "\n",
    "Groups should have 4 to 5 people.\n",
    "You should register your group on **moodle**.\n",
    "\n",
    "### Submission      \n",
    "\n",
    "The code used to produce the results and respective explanations should be uploaded to moodle. They should have a clear reference to the group, either on the file name or on the document itself (please submit one Jupyter notebook per group).\n",
    "\n",
    "### Evaluation   \n",
    "\n",
    "This will be 20% of the final grade.   \n",
    "Each solution will be evaluated on 2 components: correctness of results and simplicity of the solution.  \n",
    "All code will go through plagiarism automated checks. Groups with the same code will undergo investigation."
   ]
  },
  {
   "cell_type": "markdown",
   "metadata": {},
   "source": [
    "## Loading the Database\n",
    "\n",
    "#### Be sure that you **don't have** the neo4j docker container from the classes running (you can Stop it in the desktop app or with the command \"`docker stop Neo4JLab`\")\n",
    "\n",
    "\n",
    "The default container does not have any data whatsoever, we will have to load a database into our docker image:\n",
    "- Download and unzip the `Neo4JHWData` file provided on Moodle (apr. 6 Gb).\n",
    "- Copy the path of the `Neo4JHWData` folder of the unziped file, e.g. `c:\\Users\\osavc\\Documents\\Nova_BDMM\\_2024\\Homework\\Neo4JHWData/data`.\n",
    "- Download and unzip the `Neo4JPlugins` file provided on Moodle (it is the same plugins as for the labs).\n",
    "- Copy the path of the `Neo4JPlugins` folder of the unziped file, e.g. `c:\\Users\\osavc\\Documents\\Nova_BDMM\\_2024\\Installations\\Neo4JPlugins`.\n",
    "- Change the code below to include your correct folder paths. Be sure that you have Docker running first:\n",
    "\n",
    "`docker run --name Neo4JHW -p 7474:7474 -p 7687:7687 -d -v \"C:\\Users\\osavc\\Documents\\Nova_BDMM\\_2024\\Installations\\Neo4JPlugins\":/plugins -v \"C:\\Users\\osavc\\Documents\\Nova_BDMM\\_2024\\HW1\\Neo4JHWData/data\":/data --env NEO4J_AUTH=neo4j/test --env NEO4J_dbms_connector_https_advertised__address=\"localhost:7473\" --env NEO4J_dbms_connector_http_advertised__address=\"localhost:7474\" --env NEO4J_dbms_connector_bolt_advertised__address=\"localhost:7687\" --env NEO4J_dbms_security_procedures_unrestricted=\"gds.*\" --env NEO4J_dbms_security_procedures_allowlist=\"gds.*\" neo4j:4.4.5`\n",
    "\n",
    "- Since Neo4j is trying to recognize a new database folder, this might take a bit  before you can view the data on Neo4j webpage (let's say 3 minutes)."
   ]
  },
  {
   "cell_type": "code",
   "execution_count": 1,
   "metadata": {
    "ExecuteTime": {
     "end_time": "2024-02-29T23:16:45.833322Z",
     "start_time": "2024-02-29T23:16:44.269293Z"
    }
   },
   "outputs": [],
   "source": [
    "from neo4j import GraphDatabase\n",
    "from pprint import pprint"
   ]
  },
  {
   "cell_type": "code",
   "execution_count": 2,
   "metadata": {
    "ExecuteTime": {
     "end_time": "2024-02-29T23:16:46.537995Z",
     "start_time": "2024-02-29T23:16:46.522761Z"
    }
   },
   "outputs": [],
   "source": [
    "NEO4J_URI=\"neo4j://localhost:7687\"\n",
    "NEO4J_USERNAME=\"neo4j\"\n",
    "NEO4J_PASSWORD=\"test\""
   ]
  },
  {
   "cell_type": "code",
   "execution_count": 3,
   "metadata": {
    "ExecuteTime": {
     "end_time": "2024-02-29T23:16:48.420923Z",
     "start_time": "2024-02-29T23:16:48.405549Z"
    }
   },
   "outputs": [],
   "source": [
    "driver = GraphDatabase.driver(NEO4J_URI, auth=(NEO4J_USERNAME, NEO4J_PASSWORD), )"
   ]
  },
  {
   "cell_type": "markdown",
   "metadata": {},
   "source": [
    "### All The Functions you'll need to run queries in Neo4J"
   ]
  },
  {
   "cell_type": "code",
   "execution_count": 4,
   "metadata": {
    "ExecuteTime": {
     "end_time": "2024-02-29T23:16:54.392239Z",
     "start_time": "2024-02-29T23:16:54.382827Z"
    }
   },
   "outputs": [],
   "source": [
    "def execute_read(driver, query):    \n",
    "    with driver.session(database=\"neo4j\") as session:\n",
    "        result = session.execute_read(lambda tx, query: list(tx.run(query)), query)\n",
    "    return result"
   ]
  },
  {
   "cell_type": "markdown",
   "metadata": {},
   "source": [
    "### Understanding the Database"
   ]
  },
  {
   "cell_type": "code",
   "execution_count": 5,
   "metadata": {
    "ExecuteTime": {
     "end_time": "2024-02-29T23:16:55.777843Z",
     "start_time": "2024-02-29T23:16:55.715097Z"
    }
   },
   "outputs": [
    {
     "name": "stdout",
     "output_type": "stream",
     "text": [
      "[<Record label='COUNTRIES'>,\n",
      " <Record label='CITIES'>,\n",
      " <Record label='BREWERIES'>,\n",
      " <Record label='BEERS'>,\n",
      " <Record label='REVIEWS'>,\n",
      " <Record label='STYLE'>,\n",
      " <Record label='USER'>]\n"
     ]
    }
   ],
   "source": [
    "query = \"\"\"\n",
    "        call db.labels();\n",
    "    \"\"\"\n",
    "\n",
    "result = execute_read(driver, query)\n",
    "\n",
    "pprint(result)"
   ]
  },
  {
   "cell_type": "code",
   "execution_count": 6,
   "metadata": {
    "ExecuteTime": {
     "end_time": "2024-02-29T23:16:56.966382Z",
     "start_time": "2024-02-29T23:16:56.937451Z"
    }
   },
   "outputs": [
    {
     "name": "stdout",
     "output_type": "stream",
     "text": [
      "[<Record relationshipType='REVIEWED'>,\n",
      " <Record relationshipType='BREWED'>,\n",
      " <Record relationshipType='IN'>,\n",
      " <Record relationshipType='HAS_STYLE'>,\n",
      " <Record relationshipType='POSTED'>]\n"
     ]
    }
   ],
   "source": [
    "query = \"\"\"\n",
    "        CALL db.relationshipTypes();\n",
    "    \"\"\"\n",
    "\n",
    "result = execute_read(driver, query)\n",
    "\n",
    "pprint(result)"
   ]
  },
  {
   "cell_type": "markdown",
   "metadata": {},
   "source": [
    "# Submission\n",
    "\n",
    "GROUP NUMBER:\n",
    "\n",
    "**XXXXXX**\n",
    "\n",
    "GROUP MEMBERS:\n",
    "\n",
    "|STUDENT NUMBER|STUDENT NAME|\n",
    "|---|---|\n",
    "|20230974|Devora Cavaleiro|\n",
    "|20230520|Guilherme Sá|\n",
    "|20230739|Maria Batrakova|\n",
    "|20230372|Sebastião Rosalino|\n",
    "|20230548|Vitor Souto|"
   ]
  },
  {
   "cell_type": "markdown",
   "metadata": {},
   "source": [
    "#### 1. How many distinct countries exist in the database?"
   ]
  },
  {
   "cell_type": "code",
   "execution_count": 7,
   "metadata": {},
   "outputs": [
    {
     "name": "stdout",
     "output_type": "stream",
     "text": [
      "The number of distinct countries in the database is: 200\n"
     ]
    }
   ],
   "source": [
    "# Define a Cypher query to count distinct country names in the database (minding repititions)\n",
    "# The DISTINCT c.name is to avoid counting duplicate countries and to only count the unique country names encounterd\n",
    "# No relationship is used in this query, only distinct country names are counted\n",
    "\n",
    "query = \"\"\"\n",
    "        MATCH (c:COUNTRIES)\n",
    "        RETURN COUNT(DISTINCT c.name)\n",
    "        \"\"\"\n",
    "\n",
    "# Execute the Cypher query using the provided `execute_read` function\n",
    "# The query result is a list where each item is a record object containing the query results\n",
    "result = execute_read(driver, query)\n",
    "\n",
    "# Extract the first row and column from the result set, which contains the count of distinct countries (by their names)\n",
    "# `result[0][0]` is because of the fact that the function `execute_read` returns a list of lists\n",
    "# where it is possible to get the count by indexing into the first element\n",
    "print(f'The number of distinct countries in the database is: {result[0][0]}')"
   ]
  },
  {
   "cell_type": "markdown",
   "metadata": {},
   "source": [
    "#### 2. Most reviews:  \n",
    "    A) Which `Beer` has the most reviews?  \n",
    "    B) Which `Brewery` has the most reviews for its beers?\n",
    "    C) Which `Country` has the most reviews for its beers? "
   ]
  },
  {
   "cell_type": "markdown",
   "metadata": {},
   "source": [
    "*Which `Beer` has the most reviews?*"
   ]
  },
  {
   "cell_type": "code",
   "execution_count": 8,
   "metadata": {},
   "outputs": [
    {
     "name": "stdout",
     "output_type": "stream",
     "text": [
      "\"IPA\" is the beer with the most reviews, being reviewed 31387 times\n"
     ]
    }
   ],
   "source": [
    "# This query finds the most reviewed beer\n",
    "# Match nodes with label 'BEERS' with relationships of type ':REVIEWED', leading to nodes labeled 'REVIEWS'\n",
    "\n",
    "query = \"\"\"\n",
    "        MATCH (b:BEERS)-[:REVIEWED]->(r:REVIEWS)\n",
    "        RETURN b.name AS Beer_Name, COUNT(r) AS Number_of_Reviews \n",
    "        ORDER BY Number_of_Reviews DESC\n",
    "        LIMIT 1\n",
    "        \"\"\"\n",
    "\n",
    "# Execute the Cypher query using the function 'execute_read'\n",
    "# The result is stored in the variable 'result'\n",
    "result = execute_read(driver, query)\n",
    "\n",
    "# Printing the result\n",
    "# 'result[0][\"Beer_Name\"]','result[0][\"Number_of_Reviews\"]' accesses the first row and the corresponding column of the\n",
    "# result set, which contains the count of the number of reviews and the name of the beer\n",
    "print(f'\"{result[0][\"Beer_Name\"]}\" is the beer with the most reviews, being reviewed {result[0][\"Number_of_Reviews\"]} times')"
   ]
  },
  {
   "cell_type": "markdown",
   "metadata": {},
   "source": [
    "*Which `Brewery` has the most reviews for its beers?*"
   ]
  },
  {
   "cell_type": "code",
   "execution_count": 9,
   "metadata": {},
   "outputs": [
    {
     "name": "stdout",
     "output_type": "stream",
     "text": [
      "\"Sierra Nevada Brewing Co.\" is the Brewery with the most reviews for its beers, with a total number of reviews of: 175161\n"
     ]
    }
   ],
   "source": [
    "# This query finds the brewery with the most reviews for its beers\n",
    "#  - Starts with nodes labeled 'BREWERIES'.\n",
    "#  - Find relationships of type ':BREWED' connecting them to nodes labeled 'BEERS'\n",
    "#  - Then, find relationships of type ':REVIEWED' connecting the beers to nodes labeled 'REVIEWS'\n",
    "# Finally, returns the name of the brewery with the most reviews, counted in 'Number_Of_Reviews'.\n",
    "\n",
    "query = \"\"\"\n",
    "        MATCH (br:BREWERIES)-[:BREWED]->(b:BEERS)-[:REVIEWED]->(r:REVIEWS)\n",
    "        RETURN br.name AS Brewery_Name, COUNT(r) AS Number_Of_Reviews\n",
    "        ORDER BY Number_Of_Reviews DESC\n",
    "        LIMIT 1\n",
    "        \"\"\"\n",
    "\n",
    "# Execute the Cypher query using the function 'execute_read'\n",
    "# The result is stored in the variable 'result'\n",
    "result = execute_read(driver, query)\n",
    "\n",
    "# Printing the result\n",
    "# 'result[0][\"Brewery_Name\"]','result[0][\"Number_of_Reviews\"]' accesses the first row and the corresponding column of the\n",
    "# result set, which contains the count of the number of reviews and the name of the brewery\n",
    "print(f'\"{result[0][\"Brewery_Name\"]}\" is the Brewery with the most reviews for its beers, with a total number of reviews of: {result[0][\"Number_Of_Reviews\"]}')"
   ]
  },
  {
   "cell_type": "markdown",
   "metadata": {},
   "source": [
    "*Which `Country` has the most reviews for its beers?*"
   ]
  },
  {
   "cell_type": "code",
   "execution_count": 10,
   "metadata": {},
   "outputs": [
    {
     "name": "stdout",
     "output_type": "stream",
     "text": [
      "US is the country with the most reviews for its beers, with a total number of reviews of: 7675804\n"
     ]
    }
   ],
   "source": [
    "# This query finds the country with the most reviews for its beers\n",
    "# - Starts with nodes labeled 'COUNTRIES'.\n",
    "# - Use relationships of type ':IN' to find connected nodes labeled 'CITIES'\n",
    "# - Follow another ':IN' relationship to reach nodes labeled 'BREWERIES' within those cities\n",
    "# - Then, find relationships of type ':BREWED' connecting breweries to nodes labeled 'BEERS'\n",
    "# - Finally, find relationships of type ':REVIEWED' connecting the beers to nodes labeled 'REVIEWS'\n",
    "# Finally, returns the name of the country and counts the reviews for beers from that country\n",
    "\n",
    "query = \"\"\"\n",
    "        MATCH (cnt:COUNTRIES)<-[:IN]-(c:CITIES)<-[:IN]-(br:BREWERIES)-[:BREWED]->(b:BEERS)-[:REVIEWED]->(r:REVIEWS)\n",
    "        RETURN cnt.name AS Country_Name, COUNT(r) AS Number_Of_Reviews\n",
    "        ORDER BY Number_Of_Reviews DESC\n",
    "        LIMIT 1\n",
    "        \"\"\"\n",
    "\n",
    "# Execute the Cypher query using the function 'execute_read'\n",
    "# The result is stored in the variable 'result'\n",
    "result = execute_read(driver, query)\n",
    "\n",
    "# Printing the result\n",
    "# 'result[0][\"Country_Name\"]','result[0][\"Number_of_Reviews\"]' accesses the first row and the corresponding column of the\n",
    "# result set, which contains the count of the number of reviews and the country\n",
    "print(f'{result[0][\"Country_Name\"]} is the country with the most reviews for its beers, with a total number of reviews of: {result[0][\"Number_Of_Reviews\"]}')"
   ]
  },
  {
   "cell_type": "markdown",
   "metadata": {},
   "source": [
    "#### 3. Who is/are the user/users that have the most shared reviews (reviews of the same beers) with the user CTJman?"
   ]
  },
  {
   "cell_type": "code",
   "execution_count": 11,
   "metadata": {},
   "outputs": [
    {
     "name": "stdout",
     "output_type": "stream",
     "text": [
      "The user with most shared reviews of the same beers with user CTJman is: \"acurtis\", with 1428 shared reviews.\n"
     ]
    }
   ],
   "source": [
    "# This query finds the user with the most shared reviews with the user 'CTJman'\n",
    "# - Starts with a node labeled 'USER', having a relationship of type ':POSTED' to reviews that the user posted\n",
    "# - Then, follows a ':REVIEWED' relationship to a beer node being reviewed\n",
    "# - Then, another review for the same beer, which is connected to another review node\n",
    "# - Finally, a ':POSTED' relationship from that second review node to a specific user node\n",
    "# Only reviews posted by a user (u) about a beer that was also reviewed by CTJman will be matched\n",
    "# It returns the user's name, and counts the number of reviews shared\n",
    "\n",
    "query = '''\n",
    "    MATCH (u:USER)-[:POSTED]-(r:REVIEWS)-[:REVIEWED]-(b:BEERS)-[:REVIEWED]-(:REVIEWS)-[:POSTED]-(:USER{name:'CTJman'})\n",
    "    RETURN u.name AS User_Name, COUNT(r) AS Number_Of_Shared_Reviews\n",
    "    ORDER BY COUNT(r) DESC\n",
    "    LIMIT 1\n",
    "        '''\n",
    "\n",
    "# Execute the Cypher query using the function 'execute_read'\n",
    "# The result is stored in the variable 'result'\n",
    "result = execute_read(driver, query)\n",
    "\n",
    "# Printing the result\n",
    "# 'result[0][\"User_Name\"]','result[0][\"Number_Of_Shared_Reviews\"]' accesses the first row and the corresponding column of the\n",
    "# result set, which contains the count of the number of shared reviews and the user name\n",
    "print(f'The user with most shared reviews of the same beers with user CTJman is: \"{result[0][\"User_Name\"]}\", with {result[0][\"Number_Of_Shared_Reviews\"]} shared reviews.')"
   ]
  },
  {
   "cell_type": "markdown",
   "metadata": {},
   "source": [
    "#### 4. Which Portuguese brewery has the most beers?\n"
   ]
  },
  {
   "cell_type": "code",
   "execution_count": 12,
   "metadata": {},
   "outputs": [
    {
     "name": "stdout",
     "output_type": "stream",
     "text": [
      "\"Dois Corvos Cervejeira\" is the Portuguese Brewery that brews the most beers (40)\n"
     ]
    }
   ],
   "source": [
    "# This query finds the Portuguese brewery with the most distinct beers\n",
    "# - Starts with a country node with the name 'PT' (Portugal)\n",
    "# - Use relationships of type ':IN' to find connected nodes 'CITIES'\n",
    "# - Follows another ':IN' relationship to reach nodes labeled 'BREWERIES' within those cities\n",
    "# - Then, find relationships of type ':BREWED' connecting breweries to nodes labeled 'BEERS'\n",
    "# Country with the name 'PT' acts as a filter, ensuring only breweries in Portugal are considered\n",
    "# It returns the name of the brewery, and the count of the number of unique beers\n",
    "query = \"\"\"\n",
    "        MATCH (:COUNTRIES {name:'PT'})<-[:IN]-(c:CITIES)<-[:IN]-(br:BREWERIES)-[:BREWED]->(b:BEERS)\n",
    "        RETURN br.name AS Brewery_Name, COUNT(DISTINCT b.name) AS Beer_Count\n",
    "        ORDER BY Beer_Count DESC\n",
    "        LIMIT 1\n",
    "        \"\"\"\n",
    "\n",
    "# Execute the Cypher query using the function 'execute_read'\n",
    "# The result is stored in the variable 'result'\n",
    "result = execute_read(driver, query)\n",
    "\n",
    "# Printing the result\n",
    "# 'result[0][\"Brewery_Name\"]','result[0][\"Beer_Count\"]' accesses the first row and the corresponding column of the\n",
    "# result set, which contains the count of the number of beers and the brewery's name\n",
    "print(f'\"{result[0][\"Brewery_Name\"]}\" is the Portuguese Brewery that brews the most beers ({result[0][\"Beer_Count\"]})')"
   ]
  },
  {
   "cell_type": "markdown",
   "metadata": {},
   "source": [
    "#### 5. From those beers (the ones produced in the brewery from the previous question), which has the most reviews?\n"
   ]
  },
  {
   "cell_type": "code",
   "execution_count": 13,
   "metadata": {},
   "outputs": [
    {
     "name": "stdout",
     "output_type": "stream",
     "text": [
      "The beer from \"Dois Corvos Cervejeira\" with most reviews is: \"Finisterra\", with 10 reviews.\n"
     ]
    }
   ],
   "source": [
    "# This query finds the most reviewed beer brewed by Dois Corvos Cervejeira\n",
    "# - Starts with a brewery node with the name 'Dois Corvos Cervejeira'\n",
    "# - Follow a relationship of type ':BREWED' to connect it to beers that the brewery brewed\n",
    "# - Then, find relationships of type ':REVIEWED' connecting the beers to nodes labeled 'REVIEWS'\n",
    "# A brewery with the name 'Dois Corvos Cervejeira' acts as a filter, ensuring only reviews for beers from that brewery\n",
    "# are considered\n",
    "# It returns the name of the beer, and counts the number of reviews\n",
    "query = '''\n",
    "    MATCH (:BREWERIES{name:'Dois Corvos Cervejeira'})-[:BREWED]-(b:BEERS)-[:REVIEWED]-(r:REVIEWS) \n",
    "    RETURN b.name AS Beer_Name, COUNT(r) AS Number_Of_Reviews\n",
    "    ORDER BY Number_Of_Reviews DESC\n",
    "    LIMIT 1\n",
    "    '''\n",
    "\n",
    "# Execute the Cypher query using the function 'execute_read'\n",
    "# The result is stored in the variable 'result'\n",
    "result = execute_read(driver, query)\n",
    "\n",
    "# Printing the result\n",
    "# 'result[0][\"Beer_Name\"]','result[0][\"Number_Of_Reviews\"]' accesses the first row and the corresponding column of the\n",
    "# result set, which contains the count of the number of reviews and the beer's name\n",
    "print(f'The beer from \"Dois Corvos Cervejeira\" with most reviews is: \"{result[0][\"Beer_Name\"]}\", with {result[0][\"Number_Of_Reviews\"]} reviews.')"
   ]
  },
  {
   "cell_type": "markdown",
   "metadata": {},
   "source": [
    "#### 6. On average how many different beer styles does each brewery produce?"
   ]
  },
  {
   "cell_type": "code",
   "execution_count": 14,
   "metadata": {},
   "outputs": [
    {
     "name": "stdout",
     "output_type": "stream",
     "text": [
      "The average different styles of beer per brewery is approximately (rounded to 2 decimal places): 10.67\n"
     ]
    }
   ],
   "source": [
    "# This query finds the average number of distinct beer styles per brewery\n",
    "# - Starts with nodes labeled 'BREWERIES'\n",
    "# - Follow relationships of type ':BREWED' to connect them to beers they brewed\n",
    "# - Then, follow relationships of type ':HAS_STYLE' connecting the beers to style nodes\n",
    "# It returns the name of the brewery, and counts the distinct beer's styles\n",
    "query = '''\n",
    "    MATCH (br:BREWERIES)-[:BREWED]-(b:BEERS)-[:HAS_STYLE]-(s:STYLE) \n",
    "    WITH br.name AS Brewery_Name, COUNT(DISTINCT(s)) AS Styles \n",
    "    RETURN AVG(Styles)\n",
    "        '''\n",
    "\n",
    "# Execute the Cypher query using the function 'execute_read'\n",
    "# The result is stored in the variable 'result'\n",
    "result = execute_read(driver, query)\n",
    "\n",
    "# Printing the result\n",
    "# 'result[0][0]' accesses the first row and the first column of the result set, which contains the average style\n",
    "print(f'The average different styles of beer per brewery is approximately (rounded to 2 decimal places): {result[0][0]:.2f}')"
   ]
  },
  {
   "cell_type": "markdown",
   "metadata": {},
   "source": [
    "#### 7. Which brewery produces the strongest beers according to ABV?"
   ]
  },
  {
   "cell_type": "code",
   "execution_count": 15,
   "metadata": {},
   "outputs": [
    {
     "name": "stdout",
     "output_type": "stream",
     "text": [
      "On average, \"1648 Brewing Company Ltd\" produces the strongest beers, with 25.58 average ABV.\n",
      "\n",
      "Two breweries produce at least one beer with the maximum ABV of 100.0. They are: \"Avondale Brewing Co.\" and \"1648 Brewing Company Ltd\"\n"
     ]
    }
   ],
   "source": [
    "# This query finds the brewery with the highest average ABV (alcohol by volume)\n",
    "# - Starts with nodes labeled 'BREWERIES'\n",
    "# - Follow relationships of type ':BREWED' to connect them to beers they brewed\n",
    "# The WITH clause creates a temporary result set with two values for each beer:\n",
    "#  - abv: The alcohol by volume (converted to a float using toFloat) of the beer\n",
    "#  - brewery: The name of the brewery that brewed the beer (br.name)\n",
    "# The WHERE clause filters the temporary result set. It keeps only entries where the beer's ABV is different\n",
    "# from NaN, in an efficient and faster way, since comparing floats is faster than comparing strings. So, only breweries with beers having non-null ABV values are considered\n",
    "# It returns the brewery's name and the average ABV, in descending order\n",
    "query1 = '''\n",
    "     MATCH (br:BREWERIES)-[:BREWED]-(b:BEERS) \n",
    "     WITH toFloat(b.abv) AS abv, br.name AS brewery \n",
    "     WHERE b.abv <> abv \n",
    "     RETURN brewery, AVG(abv) AS avg_abv \n",
    "     ORDER BY avg_abv DESC\n",
    "     LIMIT 1\n",
    "'''\n",
    "\n",
    "# Execute the Cypher query using the function 'execute_read'\n",
    "# The result is stored in the variable 'result1'\n",
    "result1 = execute_read(driver, query1)\n",
    "\n",
    "\n",
    "# This query finds the top 2 breweries (the top 2 was found empirically) that produce beers with the highest maximum ABV\n",
    "# - Start with nodes labeled 'BREWERIES'\n",
    "# - Follow relationships of type ':BREWED' to connect them to beers they brewed\n",
    "# The WITH clause creates a temporary result set with two values for each beer:\n",
    "#  - abv: The alcohol by volume (converted to a float using toFloat) of the beer\n",
    "#  - brewery: The name of the brewery that brewed the beer (br.name)\n",
    "# The WHERE clause keeps only entries where the beer's ABV (b.abv) is different from the NaN, in an efficient and faster way, since comparing floats is faster than comparing strings. \n",
    "# This ensures only breweries producing beers with non-null abv are considered\n",
    "# It returns the 2 brewery's name, and the maximum ABV, in descending order\n",
    "query2 = '''\n",
    "    MATCH (br:BREWERIES)-[:BREWED]-(b:BEERS) \n",
    "    WITH toFloat(b.abv) AS abv, br.name AS brewery \n",
    "    WHERE b.abv <> abv \n",
    "    RETURN brewery, MAX(abv) AS max_abv \n",
    "    ORDER BY max_abv DESC \n",
    "    LIMIT 2\n",
    "'''\n",
    "\n",
    "# Execute the Cypher query using the function 'execute_read'\n",
    "# The result is stored in the variable 'result2'\n",
    "result2 = execute_read(driver, query2)\n",
    "\n",
    "\n",
    "# Printing the results\n",
    "# 'result1[0][\"brewery\"]','result1[0][\"avg_abv\"]' accesses the first row and the corresponding column of the\n",
    "# result set, which contains the average ABV and the brewery's name\n",
    "\n",
    "# 'result2[0][\"max_abv\"]','result2[0][\"brewery\"]','result2[1][\"brewery\"]' accesses the first row and the corresponding column of the\n",
    "# result set, which contains the maximun ABV, the brewery's name, and in the last case, it accesses the second row and the corresponding column of the\n",
    "# result set, which contains the other brewery's name\n",
    "print(f'On average, \"{result1[0][\"brewery\"]}\" produces the strongest beers, with {result1[0][\"avg_abv\"]:.2f} average ABV.\\n')\n",
    "\n",
    "print(f'Two breweries produce at least one beer with the maximum ABV of {result2[0][\"max_abv\"]}. They are: \"{result2[0][\"brewery\"]}\" and \"{result2[1][\"brewery\"]}\"')"
   ]
  },
  {
   "cell_type": "markdown",
   "metadata": {},
   "source": [
    "#### 8. If I typically enjoy a beer due to its aroma and appearance, which beer style should I try?"
   ]
  },
  {
   "cell_type": "code",
   "execution_count": 16,
   "metadata": {},
   "outputs": [
    {
     "name": "stdout",
     "output_type": "stream",
     "text": [
      "If you typically enjoy a beer due to its aroma and appearance, we would suggest you try the beer style of: \"New England IPA\"\n"
     ]
    }
   ],
   "source": [
    "# This query finds the beer style with the highest average review score (smell + look)\n",
    "# - Start with nodes labeled 'STYLE'\n",
    "# - Follow relationships of type ':HAS_STYLE' to connect them to beers with that style\n",
    "# - Then, follow relationships of type ':REVIEWED' connecting the beers to nodes labeled 'REVIEWS'\n",
    "# The WITH clause creates a temporary result set with three values for each review:\n",
    "# - smell: The smell rating of the review (converted to a float using tofloat)\n",
    "# - look: The look rating of the review (converted to a float using tofloat)\n",
    "# - name: The name of the style associated with the reviewed beer (s.name)\n",
    "# The WHERE clause keeps only entries where the review's smell rating (r.smell) and look rating (r.look) are different from NaN, in an efficient and fast way, since it is faster to \n",
    "# compare floats than strings\n",
    "# It returns the style's name, and a score by averaging smell and look ratings, in descending order\n",
    "query = '''\n",
    "    MATCH (s:STYLE)-[:HAS_STYLE]-(:BEERS)-[:REVIEWED]-(r:REVIEWS) \n",
    "    WITH tofloat(r.smell) AS smell, tofloat(r.look) AS look, s.name AS name  \n",
    "    WHERE smell <> r.smell AND look <> r.look \n",
    "    RETURN DISTINCT(name), (AVG(smell) + AVG(look))/2 AS score \n",
    "    ORDER BY score DESC\n",
    "    LIMIT 1\n",
    "    '''\n",
    "\n",
    "# Execute the Cypher query using the function 'execute_read'\n",
    "# The result is stored in the variable 'result'\n",
    "result = execute_read(driver, query)\n",
    "\n",
    "# Printing the result\n",
    "# 'result[0][\"name\"]' accesses the first row and the corresponding column of the\n",
    "# result set, which contains the style's name\n",
    "print(f'If you typically enjoy a beer due to its aroma and appearance, we would suggest you try the beer style of: \"{result[0][\"name\"]}\"')"
   ]
  },
  {
   "cell_type": "markdown",
   "metadata": {},
   "source": [
    "**Justification**\n",
    "\n",
    "To provide a recommendation for someone who typically enjoys a beer due to its aroma and appearance, the recommendation algorithm focuses on two key aspects from the reviews: the smell and the look ratings. These aspects are highly relevant to the sensory experience of beer, which directly aligns with the user's stated preferences.\n",
    "\n",
    "Here's a justification for the approach taken by the recommendation algorithm:\n",
    "\n",
    "**Focus on Relevant Factors**: Since the user's enjoyment is primarily driven by aroma (smell) and appearance (look), the algorithm selectively considers only these two factors from the reviews. This ensures that the recommendation is based on attributes that are most important to the user's experience.\n",
    "\n",
    "**Use of Averaging:** By averaging the smell and look ratings across all reviews for beers of a particular style, the algorithm derives a composite score that represents the overall sensory appeal of each beer style. This aggregation method effectively summarizes the collective opinion of the beer community regarding these sensory characteristics.\n",
    "\n",
    "**Handling Non-Numeric Values:** The algorithm includes a safeguard to ensure data quality by converting ratings to floats and excluding entries where the smell or look rating is not a number (NaN). This step prevents the algorithm from being skewed by invalid or missing data.\n",
    "\n",
    "**Efficient Comparison:** By comparing the ratings as floats instead of strings, the algorithm enhances its performance. This is a crucial step, considering the potentially large volume of reviews that must be processed, should the database scale even further.\n",
    "\n",
    "**Distinct Styles and Highest Score:** The algorithm returns the name of the beer style with the highest average score for the combined smell and look ratings. By focusing on all distinct styles, it ensures that the maximum diverse range of beer experiences is considered, and by ordering by the score, it identifies the style that best matches the user's preferences.\n",
    "\n",
    "**Limiting Results:** The query limits the result to the top beer style to provide a clear and singular recommendation, making the decision process simpler for the user."
   ]
  },
  {
   "cell_type": "markdown",
   "metadata": {},
   "source": [
    "#### 9. Using Graph Algorithms answer **one** of the following questions:\n",
    "    A. Which two countries are most similiar when it comes to their **top 10** most produced Beer styles?\n",
    "    B. Which beer is the most influential when considering the number of users who reviewed it?\n",
    "    C. Users are connected together by their reviews to beers, taking into consideration the \"overall\" score they review as a weight, how many communities are formed from these relationships? How many users are in the largest community?"
   ]
  },
  {
   "cell_type": "markdown",
   "metadata": {},
   "source": [
    "**C) Users are connected together by their reviews to beers, taking into consideration the \"overall\" score they review as a weight, how many communities are formed from these relationships? How many users are in the largest community?**"
   ]
  },
  {
   "cell_type": "code",
   "execution_count": 17,
   "metadata": {},
   "outputs": [
    {
     "name": "stdout",
     "output_type": "stream",
     "text": [
      "'Graph did not exist. Creating a new one'\n",
      "[<Record nodeQuery='MATCH (n:USER)-[:POSTED]-(r:REVIEWS) RETURN id(n) AS id' relationshipQuery='MATCH (r:REVIEWS)-[:REVIEWED]-(b:BEERS)\\n                WITH COUNT(r) AS n_reviews, b\\n                WHERE n_reviews > 1\\n                    MATCH (u1:USER)-[:POSTED]-(r1:REVIEWS)-[:REVIEWED]-(b)-[:REVIEWED]-(r2:REVIEWS)-[:POSTED]-(u2:USER)\\n                     WHERE toFloat(r1.overall) <> r1.overall AND \\n                           toFloat(r1.overall) = toFloat(r2.overall) AND \\n                           id(u1) < id(u2)\\n                     RETURN id(u1) AS source, id(u2) AS target, toFloat(r1.overall) AS weight\\n                LIMIT 1000' graphName='user_review_community' nodeCount=164935 relationshipCount=1000 projectMillis=19134>]\n",
      "\n",
      "\n",
      "'The number of found communities is: 164861'\n",
      "\n",
      "\n",
      "'The number of users in the largest community is: 26'\n"
     ]
    }
   ],
   "source": [
    "# Step 0 - Try to drop an existing graph with the name 'user_review_community' to ensure that it is possible to create a new graph\n",
    "try:\n",
    "    query = \"\"\"\n",
    "            CALL gds.graph.drop('user_review_community') YIELD graphName;\n",
    "        \"\"\"\n",
    "    # Execute the Cypher query to drop the graph\n",
    "    result = execute_read(driver, query)\n",
    "except Exception as e:\n",
    "    # Catch and print any exceptions that occur during the drop operation\n",
    "    pprint('Graph did not exist. Creating a new one')\n",
    "\n",
    "\n",
    "# Step 1 - Project a new graph representing the user review community\n",
    "try:\n",
    "    # This query projects a graph for the user review community with specific conditions and limitations\n",
    "    # Nodes in this graph are identified based on their labels ('USER' and 'BEERS') and their connections through 'REVIEWS'\n",
    "    # Relationships in this projection are defined by a sequence of 'POSTED' and 'REVIEWED' relationships between 'USER' and 'BEERS'\n",
    "    # The 'overall' score from 'REVIEWS' is used as the weight for these relationships\n",
    "    # A limit of 1000 is applied to constrain the number of relationships processed, aiming to improve query performance\n",
    "    query_projection = \"\"\"\n",
    "        CALL gds.graph.project.cypher(\n",
    "            'user_review_community',\n",
    "            \n",
    "            // Node projection: \n",
    "            // Selects nodes based on the 'USER' label that have posted reviews\n",
    "            'MATCH (n:USER)-[:POSTED]-(r:REVIEWS) RETURN id(n) AS id',\n",
    "             \n",
    "            // Relationship projection:\n",
    "            // Constructs relationships between users based on shared reviews of beers, \n",
    "            // applying several conditions:\n",
    "            // 1. Ensures that there are more than one review for a beer to be considered\n",
    "            // 2. Matches users who have posted reviews with an equal 'overall' score for the same beer\n",
    "            // 3. Filters pairs to ensure that only unique user pairs (u1, u2) are considered,\n",
    "            //    based on the uniqueness of their internal IDs and the equality of review scores\n",
    "            // The 'overall' score is used as the weight for these relationships\n",
    "\n",
    "            'MATCH (r:REVIEWS)-[:REVIEWED]-(b:BEERS)\n",
    "                WITH COUNT(r) AS n_reviews, b\n",
    "                WHERE n_reviews > 1\n",
    "                    MATCH (u1:USER)-[:POSTED]-(r1:REVIEWS)-[:REVIEWED]-(b)-[:REVIEWED]-(r2:REVIEWS)-[:POSTED]-(u2:USER)\n",
    "                     WHERE toFloat(r1.overall) <> r1.overall AND \n",
    "                           toFloat(r1.overall) = toFloat(r2.overall) AND \n",
    "                           id(u1) < id(u2)\n",
    "                     RETURN id(u1) AS source, id(u2) AS target, toFloat(r1.overall) AS weight\n",
    "                LIMIT 1000'\n",
    "        )\n",
    "    \"\"\"\n",
    "    # Executes the query to create the graph projection and prints the result,\n",
    "    # including details about the projected graph\n",
    "    result = execute_read(driver, query_projection)\n",
    "    pprint(result)\n",
    "    print('\\n')  # Adds a newline for better readability of the output\n",
    "except Exception as e:\n",
    "    # Catches and prints any exceptions that occur during the graph projection operation\n",
    "    pprint(e)\n",
    "\n",
    "\n",
    "# Step 2 - Compute communities within the projected graph\n",
    "try:\n",
    "    # Run the label propagation algorithm to detect communities\n",
    "    # using the overall score as the weight for connections\n",
    "    query_communities = \"\"\"\n",
    "        CALL gds.labelPropagation.stats('user_review_community', { relationshipWeightProperty: 'weight' })\n",
    "        YIELD communityCount, ranIterations, didConverge\n",
    "    \"\"\"\n",
    "    # Execute the Cypher query to detect communities\n",
    "    communities_result = execute_read(driver, query_communities)\n",
    "    # Pretty print the results, including the number of communities, iterations run, and convergence status\n",
    "    pprint(f'The number of found communities is: {communities_result[0][0]}')\n",
    "except Exception as e:\n",
    "    # Catch and print any exceptions that occur during community detection\n",
    "    pprint(e)\n",
    "\n",
    "\n",
    "# Step 3 - Identify the largest community from the detected communities\n",
    "try:\n",
    "    # Run the label propagation algorithm to get individual community sizes\n",
    "    # and identify the largest community by ordering the sizes in descending order\n",
    "    query_largest_community = \"\"\"\n",
    "        CALL gds.labelPropagation.stream('user_review_community', { relationshipWeightProperty: 'weight' })\n",
    "        YIELD nodeId, communityId AS Community\n",
    "            \n",
    "        WITH gds.util.asNode(nodeId).name AS Name, Community\n",
    "        RETURN Community, count(*) as CommunitySize\n",
    "        ORDER BY CommunitySize DESC\n",
    "        LIMIT 1\n",
    "    \"\"\"\n",
    "    # Execute the Cypher query to identify the largest community\n",
    "    largest_community_result = execute_read(driver, query_largest_community)\n",
    "    # Pretty print the result which includes the size of the largest community\n",
    "    print('\\n')\n",
    "    pprint(f'The number of users in the largest community is: {largest_community_result[0][1]}')\n",
    "except Exception as e:\n",
    "    # Catch and print any exceptions that occur while identifying the largest community\n",
    "    pprint(e)"
   ]
  },
  {
   "cell_type": "markdown",
   "metadata": {},
   "source": [
    "#### 10. Using Graph Algorithms answer **one** of the following questions:\n",
    "    A. Which beer has the most similar reviews as the beer `Super Bock Stout`?\n",
    "    B. Which user is the most influential when it comes to reviews made?"
   ]
  },
  {
   "cell_type": "markdown",
   "metadata": {},
   "source": [
    "**B) Which user is the most influential when it comes to reviews made?**"
   ]
  },
  {
   "cell_type": "code",
   "execution_count": 18,
   "metadata": {},
   "outputs": [
    {
     "name": "stdout",
     "output_type": "stream",
     "text": [
      "[<Record nodeQuery='MATCH (u:USER) RETURN id(u) AS id UNION ALL MATCH (b:BEERS) RETURN id(b) AS id' relationshipQuery='MATCH (u:USER)<-[:POSTED]-(r:REVIEWS)<-[:REVIEWED]-(b:BEERS)\\n             RETURN id(u) AS source, id(b) AS target, count(r) AS weight' graphName='user_influence_graph' nodeCount=882681 relationshipCount=9071251 projectMillis=706356>]\n",
      "\n",
      "\n",
      "\n",
      "\n",
      "The most influential user, when it comes to reviews made is: \"Heady Topper\" with a PageRank score of 193.41620036398234\n"
     ]
    }
   ],
   "source": [
    "# Step 0 - Dropping the existing graph named 'user_review_community' to ensure that it is possible to create a new graph\n",
    "try:\n",
    "    query = \"\"\"\n",
    "        CALL gds.graph.drop('user_review_community') YIELD graphName;\n",
    "    \"\"\"\n",
    "    # Execute the Cypher query to drop the graph if it exists\n",
    "    result = execute_read(driver, query)\n",
    "except Exception as e:\n",
    "    # If there is any error during the drop operation, print the error details\n",
    "    pprint(e)\n",
    "\n",
    "\n",
    "# Step 1 - Create a new graph projection for the PageRank algorithm\n",
    "# This projection will include 'USER' and 'BEERS' as nodes, and the 'REVIEWED' relationships\n",
    "# between 'REVIEWS' and 'BEERS' will be represented with a weight equal to the count of reviews\n",
    "try:\n",
    "    query_projection = \"\"\"\n",
    "        CALL gds.graph.project.cypher(\n",
    "            'user_influence_graph',\n",
    "            'MATCH (u:USER) RETURN id(u) AS id UNION ALL MATCH (b:BEERS) RETURN id(b) AS id',\n",
    "            'MATCH (u:USER)<-[:POSTED]-(r:REVIEWS)<-[:REVIEWED]-(b:BEERS)\n",
    "             RETURN id(u) AS source, id(b) AS target, count(r) AS weight'\n",
    "        )\n",
    "    \"\"\"\n",
    "    # Execute the query to project the graph using the provided node and relationship queries\n",
    "    result = execute_read(driver, query_projection)\n",
    "    # Pretty print the result, which will show details of the projected graph\n",
    "    pprint(result)\n",
    "    print('\\n')\n",
    "except Exception as e:\n",
    "    # Print any exceptions that occur during graph projection\n",
    "    pprint(e)\n",
    "\n",
    "\n",
    "# Step 2 - Execute the PageRank algorithm on the projected graph to determine\n",
    "# the influence of users based on their review connections\n",
    "# The 'weight' property from the relationships is used by PageRank to assess influence\n",
    "try:\n",
    "    query_pagerank = \"\"\"\n",
    "        CALL gds.pageRank.stream('user_influence_graph', {relationshipWeightProperty: 'weight'})\n",
    "        YIELD nodeId, score\n",
    "        RETURN gds.util.asNode(nodeId).name AS UserName, score\n",
    "        ORDER BY score DESC\n",
    "        LIMIT 1\n",
    "    \"\"\"\n",
    "    # Execute the PageRank algorithm, which computes the PageRank score\n",
    "    # for each node and returns the score alongside the user's name\n",
    "    pagerank_result = execute_read(driver, query_pagerank)\n",
    "    # Pretty print the result, which will show the most influential user based on the PageRank score\n",
    "    print('\\n')\n",
    "    print(f'The most influential user, when it comes to reviews made is: \"{pagerank_result[0][0]}\" with a PageRank score of {pagerank_result[0][1]}')\n",
    "except Exception as e:\n",
    "    # Print any exceptions that occur while running the PageRank algorithm\n",
    "    pprint(e)"
   ]
  },
  {
   "cell_type": "markdown",
   "metadata": {},
   "source": [
    "#### 11. If you had to pick 3 beers to recommend using only this database, which would you pick and why?"
   ]
  },
  {
   "cell_type": "markdown",
   "metadata": {},
   "source": [
    "<div style=\"border: 1px solid #ffdb4d; background-color: #ffffcc; color: #666600; padding: 10px; margin: 10px 0; border-radius: 5px;\">\n",
    "    <strong>Warning:</strong> You must have the libraries <code>ipywidgets</code>, <code>IPython</code>, and <code>jupyter-ui-poll</code> installed to run the following recommendation algorithm.<br>\n",
    "    <strong>Warning:</strong> You have to run the following cell for the widgets to be displayed.\n",
    "</div>"
   ]
  },
  {
   "cell_type": "code",
   "execution_count": 20,
   "metadata": {
    "scrolled": true
   },
   "outputs": [
    {
     "name": "stdout",
     "output_type": "stream",
     "text": [
      "                 Select your country:\n"
     ]
    },
    {
     "data": {
      "application/vnd.jupyter.widget-view+json": {
       "model_id": "568361639ce34ee780092127cd7c6523",
       "version_major": 2,
       "version_minor": 0
      },
      "text/plain": [
       "Dropdown(description='Country: ', options=('BE', 'US', 'GB', 'AU', 'IT', 'CA', 'GR', 'FR', 'AT', 'ES', 'RU', '…"
      ]
     },
     "metadata": {},
     "output_type": "display_data"
    },
    {
     "name": "stdout",
     "output_type": "stream",
     "text": [
      "            Rank characteristics based on your preferences:\n"
     ]
    },
    {
     "data": {
      "application/vnd.jupyter.widget-view+json": {
       "model_id": "f97cfb282a2d4c4fba077ae0c2d49476",
       "version_major": 2,
       "version_minor": 0
      },
      "text/plain": [
       "Dropdown(description='1st: ', options=('Look', 'Smell', 'Taste'), value=None)"
      ]
     },
     "metadata": {},
     "output_type": "display_data"
    },
    {
     "data": {
      "application/vnd.jupyter.widget-view+json": {
       "model_id": "e76ff5cb589a4f3c9113b2f648be7fa5",
       "version_major": 2,
       "version_minor": 0
      },
      "text/plain": [
       "Dropdown(description='2nd: ', options=('Look', 'Smell', 'Taste'), value=None)"
      ]
     },
     "metadata": {},
     "output_type": "display_data"
    },
    {
     "data": {
      "application/vnd.jupyter.widget-view+json": {
       "model_id": "bb60227410b141aa9b0f2d0aee0c7b78",
       "version_major": 2,
       "version_minor": 0
      },
      "text/plain": [
       "Dropdown(description='3rd: ', options=('Look', 'Smell', 'Taste'), value=None)"
      ]
     },
     "metadata": {},
     "output_type": "display_data"
    },
    {
     "data": {
      "application/vnd.jupyter.widget-view+json": {
       "model_id": "57b0f5f09e6a44e59541e5f9957e1306",
       "version_major": 2,
       "version_minor": 0
      },
      "text/plain": [
       "Button(description='Search for beers', style=ButtonStyle())"
      ]
     },
     "metadata": {},
     "output_type": "display_data"
    },
    {
     "name": "stdout",
     "output_type": "stream",
     "text": [
      "\n",
      "\n",
      "Beers from NL recommended for you to try based on your preferences:\n",
      "\n",
      "\t1. Binkie Claws 2018 Woodford BA\n",
      "\n",
      "\t2. Black Damnation Molen's 666 Edition\n",
      "\n",
      "\t3. Hel & Verdoemenis - MacAllan BA\n"
     ]
    }
   ],
   "source": [
    "from ipywidgets import Dropdown, Button, VBox\n",
    "from IPython.display import display\n",
    "from jupyter_ui_poll import ui_events\n",
    "from time import sleep\n",
    "\n",
    "# Fetch unique country names from the database\n",
    "res = execute_read(driver, 'MATCH (c:COUNTRIES) RETURN DISTINCT c.name')\n",
    "countries = list(map(lambda x: x['c.name'], res))\n",
    "\n",
    "# Define options for ranking the characteristics\n",
    "rank_options = ['Look', 'Smell', 'Taste']\n",
    "rank = {'Look': 0, 'Smell': 0, 'Taste': 0}\n",
    "\n",
    "# Create dropdown widgets for country selection and characteristics ranking\n",
    "cs = Dropdown(\n",
    "        options=countries,\n",
    "        value=None,\n",
    "        disabled=False,\n",
    "        description='Country: '\n",
    ")\n",
    "\n",
    "# Dropdown for first preference\n",
    "rank1 = Dropdown(\n",
    "    options=rank_options,\n",
    "    value=None,\n",
    "    disabled=False,\n",
    "    description='1st: '\n",
    ")  \n",
    "\n",
    "# Dropdown for second preference\n",
    "rank2 = Dropdown(\n",
    "    options=rank_options,\n",
    "    value=None,\n",
    "    disabled=False,\n",
    "    description='2nd: '\n",
    ")  \n",
    "\n",
    "# Dropdown for third preference\n",
    "rank3 = Dropdown(\n",
    "    options=rank_options,\n",
    "    value=None,\n",
    "    disabled=False,\n",
    "    description='3rd: '\n",
    ")\n",
    "\n",
    "\n",
    "# Handler function for country dropdown changes\n",
    "def dropdown_handler_cs(change):\n",
    "    global dropdown_input_cs\n",
    "    dropdown_input_cs = change.new\n",
    "\n",
    "\n",
    "# Handler function for first preference dropdown changes\n",
    "def dropdown_rank1(change):\n",
    "    rank_options.remove(change.new)\n",
    "    rank[change.new] = 3\n",
    "    rank2.options = rank_options\n",
    "\n",
    "\n",
    "# Handler function for second preference dropdown changes\n",
    "def dropdown_rank2(change):\n",
    "    rank_options.remove(change.new)\n",
    "    rank[change.new] = 2\n",
    "    rank3.options = rank_options\n",
    "\n",
    "\n",
    "# Handler function for third preference dropdown changes\n",
    "def dropdown_rank3(change):\n",
    "    rank[change.new] = 1\n",
    "\n",
    "\n",
    "# Attach handlers to the dropdown widgets\n",
    "cs.observe(dropdown_handler_cs, names='value')\n",
    "rank1.observe(dropdown_rank1, names='value')\n",
    "rank2.observe(dropdown_rank2, names='value')\n",
    "rank3.observe(dropdown_rank3, names='value')\n",
    "\n",
    "\n",
    "# Display the dropdown widgets\n",
    "print('                 Select your country:')\n",
    "display(cs)\n",
    "print('            Rank characteristics based on your preferences:')\n",
    "display(rank1)\n",
    "display(rank2)\n",
    "display(rank3)\n",
    "\n",
    "\n",
    "# Function to answer the question\n",
    "def get_result():\n",
    "    # Construct a Cypher query to recommend beers based on the user's preferences and selected country\n",
    "    # This query computes a weighted score for each beer based on the user's ratings for look, smell, and taste\n",
    "    # It only considers reviews that have non-null and numeric values for these characteristics\n",
    "    cypher_query = f\"\"\"\n",
    "    MATCH (cntr:COUNTRIES)<-[:IN]-(c:CITIES)<-[:IN]-(br:BREWERIES)-[:BREWED]->(b:BEERS)-[r:REVIEWED]->(review:REVIEWS)\n",
    "    WHERE cntr.name = '{dropdown_input_cs}' AND review.look IS NOT NULL AND review.smell IS NOT NULL AND review.taste IS NOT NULL\n",
    "    AND toFloat(review.look) IS NOT NULL AND toFloat(review.smell) IS NOT NULL AND toFloat(review.taste) IS NOT NULL\n",
    "    WITH b, \n",
    "         AVG(toFloat(review.look)) * {rank['Look']} AS look_score, \n",
    "         AVG(toFloat(review.smell)) * {rank['Smell']} AS smell_score, \n",
    "         AVG(toFloat(review.taste)) * {rank['Taste']} AS taste_score\n",
    "    WITH b, look_score + smell_score + taste_score AS weighted_score\n",
    "    RETURN b.name AS Beer_Name, weighted_score\n",
    "    ORDER BY weighted_score DESC\n",
    "    LIMIT 3\n",
    "    \"\"\"\n",
    "    \n",
    "    # Execute the query and print the top 3 recommended beers based on the computed weighted scores\n",
    "    result = execute_read(driver, cypher_query)\n",
    "    print('\\n')\n",
    "    print(f\"Beers from {dropdown_input_cs} recommended for you to try based on your preferences:\")\n",
    "    for i, beer in enumerate(result):\n",
    "        print(f\"\\n\\t{i+1}. {beer['Beer_Name']}\")  # Printing each recommended beer's name\n",
    "\n",
    "\n",
    "# Trigger result\n",
    "button = Button(\n",
    "    description='Search for beers',\n",
    "    disabled=False\n",
    ")\n",
    "display(button)\n",
    "\n",
    "\n",
    "# Flag to control the event polling loop\n",
    "clicked = False\n",
    "def on_button_clicked(b):\n",
    "    global clicked\n",
    "    clicked = True\n",
    "\n",
    "button.on_click(on_button_clicked)\n",
    "\n",
    "\n",
    "# Event loop that waits for the button click event before proceeding\n",
    "with ui_events() as poll:\n",
    "    while not clicked:\n",
    "        poll(10) # poll queued UI events including button\n",
    "        sleep(0.3) # wait for 0.3 seconds before checking again\n",
    "\n",
    "\n",
    "# Once the button is clicked, call the function to display the result\n",
    "get_result()"
   ]
  },
  {
   "cell_type": "markdown",
   "metadata": {},
   "source": [
    "**Justification**\n",
    "\n",
    "The recommendation algorithm is designed to provide personalized beer suggestions based on individual user preferences concerning three key beer characteristics: look, smell, and taste. These attributes are widely recognized as significant factors affecting a person's enjoyment of beer.\n",
    "\n",
    "Here is a detailed justification for the recommendation algorithm:\n",
    "\n",
    "**Personalization through User Input:**\n",
    "The algorithm starts by engaging with the user to gather personalized data. It prompts the user to select their country, ensuring that recommended beers are locally available. This geographical consideration narrows down the scope of the search to a relevant subset of beers.\n",
    "\n",
    "**Weighted Characteristics:**\n",
    "To capture the user's preference, the algorithm asks them to rank the importance of look, smell, and taste on a scale of 1 to 3, with 1 being the most important. This ranking is then inverted to serve as weights (with a higher ranking leading to a higher weight) to reflect the user's preference in the scoring system — the most cherished characteristic has the greatest influence on the recommendation.\n",
    "\n",
    "**Aggregated Review Data:**\n",
    "The algorithm leverages aggregated review data from other users to inform its suggestions. It computes a weighted average score for each beer based on historical review data, where the look, smell, and taste scores from reviews are multiplied by the user's corresponding weights. Only reviews with valid data are considered, ensuring reliability.\n",
    "\n",
    "**Scoring and Ranking:**\n",
    "Each beer is scored by summing the weighted average scores of look, smell, and taste. The final score represents an aggregate assessment of each beer's alignment with the user's stated preferences.\n",
    "\n",
    "**Top Recommendations:**\n",
    "The algorithm sorts all beers by their computed scores in descending order. The top three beers, which are the best match for the user's preferences, are then presented as recommendations. This approach offers a concise and focused selection for the user to consider.\n",
    "\n",
    "**Adaptation to Diverse Preferences:**\n",
    "By adjusting weights based on user input, the algorithm is flexible and easily adapts to a wide range of taste profiles. Whether a user values the aroma over appearance or taste over aroma, the recommendations will reflect these preferences.\n",
    "\n",
    "**Streamlined User Experience:**\n",
    "The algorithm's use of widgets and dropdowns for input collection provides a user-friendly interface. The direct and straightforward interaction does not overwhelm the user with choices but guides them through a simple process to collect essential preference data.\n",
    "\n",
    "**Performance Considerations:**\n",
    "The algorithm efficiently queries the database and processes data. By using Cypher queries tailored to perform calculations within the database engine, it avoids the overhead of transferring large data sets for external processing.\n",
    "\n",
    "To sum up, the algorithm stands on the principles of personalization, data-driven insights, and user experience. It understands the user's unique taste, leverages community data for informed recommendations, and presents a friendly interface for interaction. The output is a set of three beers, each likely to please the user based on the intricate balance of look, smell, and taste that they have prioritized."
   ]
  }
 ],
 "metadata": {
  "hide_input": false,
  "kernelspec": {
   "display_name": "Python 3 (ipykernel)",
   "language": "python",
   "name": "python3"
  },
  "language_info": {
   "codemirror_mode": {
    "name": "ipython",
    "version": 3
   },
   "file_extension": ".py",
   "mimetype": "text/x-python",
   "name": "python",
   "nbconvert_exporter": "python",
   "pygments_lexer": "ipython3",
   "version": "3.10.13"
  },
  "toc": {
   "base_numbering": 1,
   "nav_menu": {},
   "number_sections": true,
   "sideBar": true,
   "skip_h1_title": false,
   "title_cell": "Table of Contents",
   "title_sidebar": "Contents",
   "toc_cell": false,
   "toc_position": {},
   "toc_section_display": true,
   "toc_window_display": false
  },
  "varInspector": {
   "cols": {
    "lenName": 16,
    "lenType": 16,
    "lenVar": 40
   },
   "kernels_config": {
    "python": {
     "delete_cmd_postfix": "",
     "delete_cmd_prefix": "del ",
     "library": "var_list.py",
     "varRefreshCmd": "print(var_dic_list())"
    },
    "r": {
     "delete_cmd_postfix": ") ",
     "delete_cmd_prefix": "rm(",
     "library": "var_list.r",
     "varRefreshCmd": "cat(var_dic_list()) "
    }
   },
   "types_to_exclude": [
    "module",
    "function",
    "builtin_function_or_method",
    "instance",
    "_Feature"
   ],
   "window_display": false
  }
 },
 "nbformat": 4,
 "nbformat_minor": 4
}
